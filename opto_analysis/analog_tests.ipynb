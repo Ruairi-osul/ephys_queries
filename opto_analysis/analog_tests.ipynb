{
 "cells": [
  {
   "cell_type": "code",
   "execution_count": 5,
   "metadata": {},
   "outputs": [],
   "source": [
    "from utils import db_setup_core\n",
    "from sqlalchemy import select, and_, or_, Integer, cast, Float, func\n",
    "from queries import _result_proxy_to_df"
   ]
  },
  {
   "cell_type": "code",
   "execution_count": 6,
   "metadata": {},
   "outputs": [],
   "source": [
    "engine, metadata = db_setup_core()"
   ]
  },
  {
   "cell_type": "code",
   "execution_count": 7,
   "metadata": {},
   "outputs": [],
   "source": [
    "def select_recording_sessions(\n",
    "    engine,\n",
    "    metadata,\n",
    "    group_names=None,\n",
    "    exp_names=None,\n",
    "    session_names=None,\n",
    "    exclude_excluded_recordings=True,\n",
    "    as_df=True,\n",
    "):\n",
    "    r_sesh, groups, experiments = (\n",
    "        metadata.tables[\"recording_sessions\"],\n",
    "        metadata.tables[\"experimental_groups\"],\n",
    "        metadata.tables[\"experiments\"],\n",
    "    )\n",
    "\n",
    "    stmt = select([r_sesh, groups.c.group_name, experiments.c.experiment_name])\n",
    "    stmt = stmt.select_from(r_sesh.join(groups).join(experiments))\n",
    "    if exclude_excluded_recordings:\n",
    "        stmt = stmt.where(or_(r_sesh.c.excluded.is_(None), r_sesh.c.excluded == 1))\n",
    "    if group_names:\n",
    "        stmt = stmt.where(groups.c.group_name.in_(group_names))\n",
    "    if exp_names:\n",
    "        stmt = stmt.where(experiments.c.experiment_name.in_(exp_names))\n",
    "    if session_names:\n",
    "        stmt = stmt.where(r_sesh.c.session_name.in_(session_names))\n",
    "\n",
    "    with engine.connect() as con:\n",
    "        rp = con.execute(stmt)\n",
    "\n",
    "    if as_df:\n",
    "        return _result_proxy_to_df(rp)\n",
    "    else:\n",
    "        return rp"
   ]
  },
  {
   "cell_type": "code",
   "execution_count": 9,
   "metadata": {},
   "outputs": [],
   "source": [
    "df = select_recording_sessions(engine, metadata)\n"
   ]
  },
  {
   "cell_type": "code",
   "execution_count": 10,
   "metadata": {},
   "outputs": [
    {
     "data": {
      "text/html": [
       "<div>\n",
       "<style scoped>\n",
       "    .dataframe tbody tr th:only-of-type {\n",
       "        vertical-align: middle;\n",
       "    }\n",
       "\n",
       "    .dataframe tbody tr th {\n",
       "        vertical-align: top;\n",
       "    }\n",
       "\n",
       "    .dataframe thead th {\n",
       "        text-align: right;\n",
       "    }\n",
       "</style>\n",
       "<table border=\"1\" class=\"dataframe\">\n",
       "  <thead>\n",
       "    <tr style=\"text-align: right;\">\n",
       "      <th></th>\n",
       "      <th>id</th>\n",
       "      <th>session_name</th>\n",
       "      <th>session_date</th>\n",
       "      <th>start_time</th>\n",
       "      <th>group_id</th>\n",
       "      <th>mouse_id</th>\n",
       "      <th>chan_map_id</th>\n",
       "      <th>excluded</th>\n",
       "      <th>group_name</th>\n",
       "      <th>experiment_name</th>\n",
       "    </tr>\n",
       "  </thead>\n",
       "  <tbody>\n",
       "    <tr>\n",
       "      <th>0</th>\n",
       "      <td>1</td>\n",
       "      <td>ESHOCK_01</td>\n",
       "      <td>2019-02-28</td>\n",
       "      <td>14:09:37</td>\n",
       "      <td>2</td>\n",
       "      <td>None</td>\n",
       "      <td>1</td>\n",
       "      <td>None</td>\n",
       "      <td>shock</td>\n",
       "      <td>ESHOCK</td>\n",
       "    </tr>\n",
       "    <tr>\n",
       "      <th>1</th>\n",
       "      <td>2</td>\n",
       "      <td>ESHOCK_02</td>\n",
       "      <td>2019-03-05</td>\n",
       "      <td>13:39:08</td>\n",
       "      <td>2</td>\n",
       "      <td>None</td>\n",
       "      <td>1</td>\n",
       "      <td>None</td>\n",
       "      <td>shock</td>\n",
       "      <td>ESHOCK</td>\n",
       "    </tr>\n",
       "    <tr>\n",
       "      <th>2</th>\n",
       "      <td>3</td>\n",
       "      <td>ESHOCK_03_LOC1</td>\n",
       "      <td>2019-03-08</td>\n",
       "      <td>13:10:19</td>\n",
       "      <td>2</td>\n",
       "      <td>None</td>\n",
       "      <td>1</td>\n",
       "      <td>None</td>\n",
       "      <td>shock</td>\n",
       "      <td>ESHOCK</td>\n",
       "    </tr>\n",
       "    <tr>\n",
       "      <th>3</th>\n",
       "      <td>4</td>\n",
       "      <td>ESHOCK_04_LOC1</td>\n",
       "      <td>2019-03-08</td>\n",
       "      <td>14:44:40</td>\n",
       "      <td>2</td>\n",
       "      <td>None</td>\n",
       "      <td>1</td>\n",
       "      <td>None</td>\n",
       "      <td>shock</td>\n",
       "      <td>ESHOCK</td>\n",
       "    </tr>\n",
       "    <tr>\n",
       "      <th>4</th>\n",
       "      <td>5</td>\n",
       "      <td>ESHOCK_06_LOC1</td>\n",
       "      <td>2019-04-09</td>\n",
       "      <td>11:24:46</td>\n",
       "      <td>1</td>\n",
       "      <td>None</td>\n",
       "      <td>1</td>\n",
       "      <td>None</td>\n",
       "      <td>sham</td>\n",
       "      <td>ESHOCK</td>\n",
       "    </tr>\n",
       "  </tbody>\n",
       "</table>\n",
       "</div>"
      ],
      "text/plain": [
       "   id    session_name session_date start_time  group_id mouse_id  chan_map_id  \\\n",
       "0   1       ESHOCK_01   2019-02-28   14:09:37         2     None            1   \n",
       "1   2       ESHOCK_02   2019-03-05   13:39:08         2     None            1   \n",
       "2   3  ESHOCK_03_LOC1   2019-03-08   13:10:19         2     None            1   \n",
       "3   4  ESHOCK_04_LOC1   2019-03-08   14:44:40         2     None            1   \n",
       "4   5  ESHOCK_06_LOC1   2019-04-09   11:24:46         1     None            1   \n",
       "\n",
       "  excluded group_name experiment_name  \n",
       "0     None      shock          ESHOCK  \n",
       "1     None      shock          ESHOCK  \n",
       "2     None      shock          ESHOCK  \n",
       "3     None      shock          ESHOCK  \n",
       "4     None       sham          ESHOCK  "
      ]
     },
     "execution_count": 10,
     "metadata": {},
     "output_type": "execute_result"
    }
   ],
   "source": [
    "df.head()"
   ]
  },
  {
   "cell_type": "code",
   "execution_count": 11,
   "metadata": {},
   "outputs": [
    {
     "name": "stdout",
     "output_type": "stream",
     "text": [
      "<class 'pandas.core.frame.DataFrame'>\n",
      "RangeIndex: 49 entries, 0 to 48\n",
      "Data columns (total 10 columns):\n",
      "id                 49 non-null int64\n",
      "session_name       49 non-null object\n",
      "session_date       49 non-null object\n",
      "start_time         49 non-null object\n",
      "group_id           49 non-null int64\n",
      "mouse_id           0 non-null object\n",
      "chan_map_id        49 non-null int64\n",
      "excluded           0 non-null object\n",
      "group_name         49 non-null object\n",
      "experiment_name    49 non-null object\n",
      "dtypes: int64(3), object(7)\n",
      "memory usage: 4.0+ KB\n"
     ]
    }
   ],
   "source": [
    "df.info()"
   ]
  },
  {
   "cell_type": "code",
   "execution_count": null,
   "metadata": {},
   "outputs": [],
   "source": []
  }
 ],
 "metadata": {
  "kernelspec": {
   "display_name": "Python 3",
   "language": "python",
   "name": "python3"
  },
  "language_info": {
   "codemirror_mode": {
    "name": "ipython",
    "version": 3
   },
   "file_extension": ".py",
   "mimetype": "text/x-python",
   "name": "python",
   "nbconvert_exporter": "python",
   "pygments_lexer": "ipython3",
   "version": "3.7.3"
  }
 },
 "nbformat": 4,
 "nbformat_minor": 2
}
